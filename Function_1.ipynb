{
 "cells": [
  {
   "cell_type": "code",
   "execution_count": 7,
   "metadata": {},
   "outputs": [],
   "source": [
    "import numpy as np\n",
    "def S(x):\n",
    "    Sigmoid = 1/(1 + np.exp(-x))\n",
    "    return Sigmoid\n",
    "\n",
    "def dS(x):\n",
    "    s = S(x)\n",
    "    dSigmoid = s*(1-s)\n",
    "    return dSigmoid\n",
    "\n",
    "def forward_prop(i,W1,b1,W2,b2):      #W1 = W_ji , W2 = W_kj , b1 = W_j0 , b2 = W_k0\n",
    "    Net1 = W1.dot(i) + b1         # i = input  ,  y = target  ,  Net1 = Net(ji)  , Net2 = Net(kj)\n",
    "    o1 = S(Net1)\n",
    "    Net2 = W2.dot(o1) + b2\n",
    "    o2 = S(Net2)   #Qua andrebbe usata la softmax o altro per l'errore ma come placeholder ho tenuto la sigmoidale.\n",
    "    return Net1,o1,Net2,o2\n",
    "\n",
    "def backward_prop(Net1,o1,Net2,o2,W1,W2,i,y):\n",
    "    dE = y - o2\n",
    "    dW2 = (dE * dS(Net2)) * o1\n",
    "    dW1 = (dE.dot(W2) * dS(Net1)) * i\n",
    "    db2 = (dE * dS(Net2))\n",
    "    db1 = (dE.dot(W2) * dS(Net1))\n",
    "    return dW1,db1,dW2,db2\n",
    "\n",
    "def update_params(W1,b1,W2,b2,dW1,db1,dW2,db2,alpha):   #Giusto abbozzato ovviamente\n",
    "    W1 = W1 - alpha * dW1\n",
    "    b1 = b1 - alpha * b1\n",
    "    W2 = W2 - alpha * dW2\n",
    "    b2 = b2 - alpha * b2\n"
   ]
  },
  {
   "cell_type": "code",
   "execution_count": 8,
   "metadata": {},
   "outputs": [
    {
     "name": "stdout",
     "output_type": "stream",
     "text": [
      "(8, 10)\n",
      "(3, 10)\n"
     ]
    },
    {
     "ename": "ValueError",
     "evalue": "operands could not be broadcast together with shapes (3,10) (8,10) ",
     "output_type": "error",
     "traceback": [
      "\u001b[1;31m---------------------------------------------------------------------------\u001b[0m",
      "\u001b[1;31mValueError\u001b[0m                                Traceback (most recent call last)",
      "Cell \u001b[1;32mIn[8], line 25\u001b[0m\n\u001b[0;32m     23\u001b[0m \u001b[38;5;28mprint\u001b[39m(Net1\u001b[38;5;241m.\u001b[39mshape)\n\u001b[0;32m     24\u001b[0m \u001b[38;5;28mprint\u001b[39m(Net2\u001b[38;5;241m.\u001b[39mshape)\n\u001b[1;32m---> 25\u001b[0m dW1,db1,dW2,db2 \u001b[38;5;241m=\u001b[39m \u001b[43mbackward_prop\u001b[49m\u001b[43m(\u001b[49m\u001b[43mNet1\u001b[49m\u001b[43m,\u001b[49m\u001b[43mo1\u001b[49m\u001b[43m,\u001b[49m\u001b[43mNet2\u001b[49m\u001b[43m,\u001b[49m\u001b[43mo2\u001b[49m\u001b[43m,\u001b[49m\u001b[43mw_ji\u001b[49m\u001b[43m,\u001b[49m\u001b[43mw_kj\u001b[49m\u001b[43m,\u001b[49m\u001b[38;5;28;43minput\u001b[39;49m\u001b[43m,\u001b[49m\u001b[43my\u001b[49m\u001b[43m)\u001b[49m\n",
      "Cell \u001b[1;32mIn[7], line 20\u001b[0m, in \u001b[0;36mbackward_prop\u001b[1;34m(Net1, o1, Net2, o2, W1, W2, i, y)\u001b[0m\n\u001b[0;32m     18\u001b[0m \u001b[38;5;28;01mdef\u001b[39;00m \u001b[38;5;21mbackward_prop\u001b[39m(Net1,o1,Net2,o2,W1,W2,i,y):\n\u001b[0;32m     19\u001b[0m     dE \u001b[38;5;241m=\u001b[39m y \u001b[38;5;241m-\u001b[39m o2\n\u001b[1;32m---> 20\u001b[0m     dW2 \u001b[38;5;241m=\u001b[39m \u001b[43m(\u001b[49m\u001b[43mdE\u001b[49m\u001b[43m \u001b[49m\u001b[38;5;241;43m*\u001b[39;49m\u001b[43m \u001b[49m\u001b[43mdS\u001b[49m\u001b[43m(\u001b[49m\u001b[43mNet2\u001b[49m\u001b[43m)\u001b[49m\u001b[43m)\u001b[49m\u001b[43m \u001b[49m\u001b[38;5;241;43m*\u001b[39;49m\u001b[43m \u001b[49m\u001b[43mo1\u001b[49m\n\u001b[0;32m     21\u001b[0m     dW1 \u001b[38;5;241m=\u001b[39m (dE\u001b[38;5;241m.\u001b[39mdot(W2) \u001b[38;5;241m*\u001b[39m dS(Net1)) \u001b[38;5;241m*\u001b[39m i\n\u001b[0;32m     22\u001b[0m     db2 \u001b[38;5;241m=\u001b[39m (dE \u001b[38;5;241m*\u001b[39m dS(Net2))\n",
      "\u001b[1;31mValueError\u001b[0m: operands could not be broadcast together with shapes (3,10) (8,10) "
     ]
    }
   ],
   "source": [
    "N = 10 #batch dimension\n",
    "input_dim = 5 \n",
    "hidden_dim = 8\n",
    "output_dim = 3\n",
    "\n",
    "\n",
    "\n",
    "o1 = np.empty((hidden_dim,N))\n",
    "o2 = np.empty((output_dim,N))\n",
    "\n",
    "input = np.random.random((input_dim,N))\n",
    "y = np.random.randint(0,2,(output_dim,N))\n",
    "\n",
    "w_ji = np.random.random((hidden_dim,input_dim))\n",
    "w_kj = np.random.random((output_dim,hidden_dim))\n",
    "\n",
    "\n",
    "b_j = np.ones((hidden_dim,1))\n",
    "\n",
    "b_k = np.ones((output_dim,1))\n",
    "\n",
    "Net1, o1, Net2, o2 = forward_prop(input,w_ji, b_j, w_kj, b_k)\n",
    "print(Net1.shape)\n",
    "print(Net2.shape)\n",
    "dW1,db1,dW2,db2 = backward_prop(Net1,o1,Net2,o2,w_ji,w_kj,input,y)"
   ]
  }
 ],
 "metadata": {
  "kernelspec": {
   "display_name": "Python 3",
   "language": "python",
   "name": "python3"
  },
  "language_info": {
   "codemirror_mode": {
    "name": "ipython",
    "version": 3
   },
   "file_extension": ".py",
   "mimetype": "text/x-python",
   "name": "python",
   "nbconvert_exporter": "python",
   "pygments_lexer": "ipython3",
   "version": "3.11.6"
  }
 },
 "nbformat": 4,
 "nbformat_minor": 2
}
