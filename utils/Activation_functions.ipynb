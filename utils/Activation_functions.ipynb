{
 "cells": [
  {
   "cell_type": "code",
   "execution_count": 1,
   "metadata": {},
   "outputs": [],
   "source": [
    "#This script implements Activation functions and their derivatives\n",
    "\n",
    "import numpy as np \n",
    "import math\n",
    "\n",
    "\n",
    "#linear activation function \n",
    "def linear(x):\n",
    "    return x\n",
    "\n",
    "def d_linear(x):\n",
    "    return 1\n",
    "\n",
    "#sigmoid activation function\n",
    "def sigmoid(x):\n",
    "    return 1/(1+np.exp(-x))\n",
    "\n",
    "def d_sigmoid(x):\n",
    "    f =sigmoid(x)\n",
    "    return f * (1-f)\n",
    "\n",
    "#ReLu activation function\n",
    "def relu(x):\n",
    "    return np.max(0,x)\n",
    "\n",
    "def d_relu(x):\n",
    "    return int(x>0)\n",
    "\n",
    "#hyperbolic tangent activation function\n",
    "def TanH(x):\n",
    "    return np.tanh(x)\n",
    "\n",
    "def d_TanH(x):\n",
    "    return 1 - math.pow(np.tanh(x), 2) \n",
    "\n",
    "#Dictionary for the activation functions\n",
    "act_func = {\n",
    "    'lin': linear,\n",
    "    'sigm': sigmoid,\n",
    "    'relu': relu,\n",
    "    'tanh': TanH\n",
    "}\n",
    "\n",
    "#A second dictionary for their derivatives\n",
    "d_act_func = {\n",
    "    'd_lin': d_linear,\n",
    "    'd_sigm': d_sigmoid,\n",
    "    'd_relu': d_relu,\n",
    "    'd_tanh': d_TanH\n",
    "}\n"
   ]
  }
 ],
 "metadata": {
  "kernelspec": {
   "display_name": "Python 3",
   "language": "python",
   "name": "python3"
  },
  "language_info": {
   "codemirror_mode": {
    "name": "ipython",
    "version": 3
   },
   "file_extension": ".py",
   "mimetype": "text/x-python",
   "name": "python",
   "nbconvert_exporter": "python",
   "pygments_lexer": "ipython3",
   "version": "3.9.7"
  },
  "orig_nbformat": 4
 },
 "nbformat": 4,
 "nbformat_minor": 2
}
