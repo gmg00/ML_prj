{
 "cells": [
  {
   "cell_type": "code",
   "execution_count": 1,
   "metadata": {},
   "outputs": [],
   "source": [
    "import numpy as np\n",
    "from matplotlib import pyplot as plt\n",
    "from NeuralNetwork import NeuralNetwork\n",
    "from utils import get_data, onehot_encoding, grid_search, save_dict_to_file, load_dict_from_file\n",
    "from Layer import Layer, Input\n",
    "from functions import accuracy, MSE, MEE\n",
    "import pandas as pd"
   ]
  },
  {
   "cell_type": "code",
   "execution_count": 2,
   "metadata": {},
   "outputs": [],
   "source": [
    "np.random.seed(42)"
   ]
  },
  {
   "cell_type": "code",
   "execution_count": 3,
   "metadata": {},
   "outputs": [],
   "source": [
    "input_layer = Input(5)\n",
    "hidden_layer = Layer(input_layer, 10, 'sigm')\n",
    "output_layer = Layer(hidden_layer, 3, 'lin')"
   ]
  },
  {
   "cell_type": "code",
   "execution_count": 4,
   "metadata": {},
   "outputs": [
    {
     "data": {
      "text/plain": [
       "array([[-0.12545988,  0.45071431,  0.23199394,  0.09865848, -0.34398136],\n",
       "       [-0.34400548, -0.44191639,  0.36617615,  0.10111501,  0.20807258],\n",
       "       [-0.47941551,  0.46990985,  0.33244264, -0.28766089, -0.31817503],\n",
       "       [-0.31659549, -0.19575776,  0.02475643, -0.06805498, -0.20877086],\n",
       "       [ 0.11185289, -0.36050614, -0.20785535, -0.13363816, -0.04393002],\n",
       "       [ 0.28517596, -0.30032622,  0.01423444,  0.09241457, -0.45354959],\n",
       "       [ 0.10754485, -0.32947588, -0.43494841,  0.44888554,  0.46563203],\n",
       "       [ 0.30839735, -0.19538623, -0.40232789,  0.18423303, -0.05984751],\n",
       "       [-0.37796177, -0.00482309, -0.46561148,  0.4093204 , -0.24122002],\n",
       "       [ 0.16252228, -0.18828892,  0.02006802,  0.04671028, -0.31514554]])"
      ]
     },
     "execution_count": 4,
     "metadata": {},
     "output_type": "execute_result"
    }
   ],
   "source": [
    "hidden_layer.W"
   ]
  },
  {
   "cell_type": "code",
   "execution_count": 5,
   "metadata": {},
   "outputs": [
    {
     "data": {
      "text/plain": [
       "array([[-0.11132271, -0.22865097,  0.32873751, -0.14324667, -0.21906549,\n",
       "         0.04269608, -0.35907578,  0.30219698, -0.42544936,  0.48688694],\n",
       "       [ 0.27224477, -0.30128432, -0.49447788,  0.31546143,  0.20685734,\n",
       "         0.22900717,  0.27127035, -0.42595535, -0.14153427, -0.38413094],\n",
       "       [ 0.36310343,  0.12329813, -0.16910198, -0.43644165, -0.18901768,\n",
       "        -0.17481668,  0.22960618,  0.13755747,  0.38721274, -0.02778507]])"
      ]
     },
     "execution_count": 5,
     "metadata": {},
     "output_type": "execute_result"
    }
   ],
   "source": [
    "output_layer.W"
   ]
  },
  {
   "cell_type": "code",
   "execution_count": 6,
   "metadata": {},
   "outputs": [],
   "source": [
    "input_layer2 = Input(5)\n",
    "hidden_layer2 = Layer(input_layer2, 10, 'sigm')\n",
    "output_layer2 = Layer(hidden_layer2, 3, 'lin')"
   ]
  },
  {
   "cell_type": "code",
   "execution_count": 7,
   "metadata": {},
   "outputs": [
    {
     "data": {
      "text/plain": [
       "array([[ 0.0612772 ,  0.27096718, -0.0062044 ,  0.02273283, -0.07245898],\n",
       "       [-0.47458087, -0.39210857, -0.46857081,  0.13641041, -0.18564402],\n",
       "       [ 0.00857069,  0.40756647, -0.25070777, -0.08961708,  0.25555114],\n",
       "       [-0.27120183, -0.42302009, -0.21024855, -0.33877871,  0.42969765],\n",
       "       [ 0.30812038,  0.13340376,  0.37146059,  0.30367208, -0.31342994],\n",
       "       [ 0.392559  ,  0.03934224,  0.30744016,  0.3960913 , -0.18199653],\n",
       "       [-0.38994808, -0.27206484, -0.07289221,  0.31801477,  0.36073058],\n",
       "       [-0.49304787,  0.0107473 , -0.082589  , -0.27789219, -0.38013463],\n",
       "       [-0.16238483,  0.4429097 , -0.17679707,  0.01879062,  0.20301896],\n",
       "       [-0.1363704 ,  0.47178208,  0.46244729, -0.2482177 , -0.00275149]])"
      ]
     },
     "execution_count": 7,
     "metadata": {},
     "output_type": "execute_result"
    }
   ],
   "source": [
    "hidden_layer2.W"
   ]
  },
  {
   "cell_type": "code",
   "execution_count": 8,
   "metadata": {},
   "outputs": [
    {
     "data": {
      "text/plain": [
       "array([[-0.01054724,  0.48565045, -0.25794473,  0.17213555,  0.26161962,\n",
       "        -0.26236246,  0.22821635, -0.13221687,  0.13230583,  0.13352971],\n",
       "       [ 0.03577468, -0.40971023,  0.3353025 , -0.17921994, -0.31348149,\n",
       "        -0.45922486,  0.09089294,  0.17756436, -0.48341217,  0.01209306],\n",
       "       [-0.27350422,  0.14517279, -0.32563357,  0.19093774, -0.11326465,\n",
       "         0.43672999, -0.36247906, -0.15893365, -0.38652648,  0.42469362]])"
      ]
     },
     "execution_count": 8,
     "metadata": {},
     "output_type": "execute_result"
    }
   ],
   "source": [
    "output_layer2.W"
   ]
  }
 ],
 "metadata": {
  "kernelspec": {
   "display_name": "Python 3",
   "language": "python",
   "name": "python3"
  },
  "language_info": {
   "codemirror_mode": {
    "name": "ipython",
    "version": 3
   },
   "file_extension": ".py",
   "mimetype": "text/x-python",
   "name": "python",
   "nbconvert_exporter": "python",
   "pygments_lexer": "ipython3",
   "version": "3.11.6"
  }
 },
 "nbformat": 4,
 "nbformat_minor": 2
}
