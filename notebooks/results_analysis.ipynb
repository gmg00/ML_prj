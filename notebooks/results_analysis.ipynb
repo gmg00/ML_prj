{
 "cells": [
  {
   "cell_type": "code",
   "execution_count": 1,
   "metadata": {},
   "outputs": [],
   "source": [
    "import numpy as np\n",
    "from matplotlib import pyplot as plt\n",
    "from NeuralNetwork import NeuralNetwork\n",
    "from utils import get_data, onehot_encoding, grid_search, save_dict_to_file, load_dict_from_file\n",
    "from Layer import Layer, Input\n",
    "from functions import accuracy, MSE"
   ]
  },
  {
   "cell_type": "code",
   "execution_count": 2,
   "metadata": {},
   "outputs": [],
   "source": [
    "best_comb_filename = '/Users/HP/Desktop/UNI/LM_1/MachineLearning/ML_prj/data/output/best_comb7.pkl'\n",
    "param_grid_filename = '/Users/HP/Desktop/UNI/LM_1/MachineLearning/ML_prj/data/output/param_grid7.pkl'"
   ]
  },
  {
   "cell_type": "code",
   "execution_count": 3,
   "metadata": {},
   "outputs": [],
   "source": [
    "df = get_data('/Users/HP/Desktop/UNI/LM_1/MachineLearning/ML_prj/data/MONK/monks-3.train')\n",
    "df_test = get_data('/Users/HP/Desktop/UNI/LM_1/MachineLearning/ML_prj/data/MONK/monks-3.test')"
   ]
  },
  {
   "cell_type": "code",
   "execution_count": 4,
   "metadata": {},
   "outputs": [],
   "source": [
    "X_train, y_train = df.drop(columns=['target','id']).to_numpy().T, df['target'].apply(lambda x: int(x)).to_numpy().T\n",
    "X_test, y_test = df_test.drop(columns=['target','id']).to_numpy().T, df_test['target'].apply(lambda x: int(x)).to_numpy().T\n",
    "\n",
    "# DATA PREPARATION\n",
    "\n",
    "X_train = onehot_encoding(X_train)\n",
    "X_test = onehot_encoding(X_test)"
   ]
  },
  {
   "cell_type": "code",
   "execution_count": 5,
   "metadata": {},
   "outputs": [],
   "source": [
    "best_comb = load_dict_from_file(best_comb_filename)\n",
    "param_grid = load_dict_from_file(param_grid_filename)"
   ]
  },
  {
   "cell_type": "code",
   "execution_count": 6,
   "metadata": {},
   "outputs": [],
   "source": [
    "p_best = []\n",
    "for p_comb in param_grid:\n",
    "    if p_comb['results']['val_accuracy_mean'] > 90 and p_comb['hidden_act_func'] == 'sigm':\n",
    "        print(p_comb)\n",
    "        p_best.append(p_comb)"
   ]
  },
  {
   "cell_type": "code",
   "execution_count": 7,
   "metadata": {},
   "outputs": [
    {
     "name": "stdout",
     "output_type": "stream",
     "text": [
      "val_loss = 2.59e-01 +- 7.79e-02\n",
      "val_accuracy = 9.44e+01 +- 3.95e+00\n",
      "hyperparameters : {'eta': 0.09, 'lam': 3e-05, 'alpha': 0.085, 'epochs': 500, 'n_batch': 'batch', 'scale_eta_batchsize': None, 'dim_hidden': 4, 'hidden_act_func': 'tanh', 'l1_reg': False, 'nest': False, 'loss': 'binary_crossentropy', 'output_act_func': 'sigm', 'elapsed_time': 30.490006685256958}\n",
      "results : {'train_loss_mean': 0.16626900041344425, 'train_loss_std': 0.022992143332911573, 'val_loss_mean': 0.2588930541930869, 'val_loss_std': 0.07790885718023545, 'train_accuracy_mean': 93.85629251700679, 'train_accuracy_std': 0.8896118539987745, 'val_accuracy_mean': 94.35897435897436, 'val_accuracy_std': 3.9546658500480003, 'train_MSE_mean': 0.04152698539033438, 'train_MSE_std': 0.006148533407712086, 'val_MSE_mean': 0.06381421299759975, 'val_MSE_std': 0.02627955757824755}\n",
      "\n",
      "val_loss = 2.58e-01 +- 8.41e-02\n",
      "val_accuracy = 9.43e+01 +- 1.90e+00\n",
      "hyperparameters : {'eta': 0.075, 'lam': 2e-05, 'alpha': 0.09, 'epochs': 500, 'n_batch': 'batch', 'scale_eta_batchsize': None, 'dim_hidden': 4, 'hidden_act_func': 'tanh', 'l1_reg': False, 'nest': False, 'loss': 'binary_crossentropy', 'output_act_func': 'sigm', 'elapsed_time': 7.0209574699401855}\n",
      "results : {'train_loss_mean': 0.1799169687462694, 'train_loss_std': 0.016002213798680692, 'val_loss_mean': 0.2580971952517431, 'val_loss_std': 0.08408875537896209, 'train_accuracy_mean': 93.85204081632654, 'train_accuracy_std': 1.118964908135776, 'val_accuracy_mean': 94.29487179487181, 'val_accuracy_std': 1.8950955768069924, 'train_MSE_mean': 0.04464160589655503, 'train_MSE_std': 0.004477488517848494, 'val_MSE_mean': 0.06196634857708359, 'val_MSE_std': 0.018164676152208455}\n",
      "\n",
      "val_loss = 2.78e-01 +- 1.43e-01\n",
      "val_accuracy = 9.43e+01 +- 4.18e+00\n",
      "hyperparameters : {'eta': 0.08, 'lam': 8e-06, 'alpha': 0.1, 'epochs': 500, 'n_batch': 'batch', 'scale_eta_batchsize': None, 'dim_hidden': 4, 'hidden_act_func': 'tanh', 'l1_reg': False, 'nest': False, 'loss': 'binary_crossentropy', 'output_act_func': 'sigm', 'elapsed_time': 7.695375204086304}\n",
      "results : {'train_loss_mean': 0.16821906584118754, 'train_loss_std': 0.03456278080004769, 'val_loss_mean': 0.2775257648087009, 'val_loss_std': 0.14270137532224095, 'train_accuracy_mean': 94.06462585034015, 'train_accuracy_std': 1.1639414035556945, 'val_accuracy_mean': 94.2948717948718, 'val_accuracy_std': 4.18094201515906, 'train_MSE_mean': 0.0421610265274638, 'train_MSE_std': 0.009870586622427707, 'val_MSE_mean': 0.06518510194014877, 'val_MSE_std': 0.03615161256761343}\n",
      "\n",
      "val_loss = 2.76e-01 +- 1.80e-01\n",
      "val_accuracy = 9.42e+01 +- 4.28e+00\n",
      "hyperparameters : {'eta': 0.1, 'lam': 1e-05, 'alpha': 0.08, 'epochs': 500, 'n_batch': 'batch', 'scale_eta_batchsize': None, 'dim_hidden': 4, 'hidden_act_func': 'tanh', 'l1_reg': False, 'nest': False, 'loss': 'binary_crossentropy', 'output_act_func': 'sigm', 'elapsed_time': 7.138956785202026}\n",
      "results : {'train_loss_mean': 0.16239033165475877, 'train_loss_std': 0.03206880571605463, 'val_loss_mean': 0.27568628148001634, 'val_loss_std': 0.18045574541683898, 'train_accuracy_mean': 94.05187074829932, 'train_accuracy_std': 1.2216816344743158, 'val_accuracy_mean': 94.23076923076924, 'val_accuracy_std': 4.276174379527673, 'train_MSE_mean': 0.041356353047450965, 'train_MSE_std': 0.009078597986779877, 'val_MSE_mean': 0.06194449470781629, 'val_MSE_std': 0.04323570991261478}\n",
      "\n",
      "val_loss = 2.71e-01 +- 6.82e-02\n",
      "val_accuracy = 9.42e+01 +- 2.10e+00\n",
      "hyperparameters : {'eta': 0.085, 'lam': 3e-05, 'alpha': 0.08, 'epochs': 500, 'n_batch': 'batch', 'scale_eta_batchsize': None, 'dim_hidden': 4, 'hidden_act_func': 'tanh', 'l1_reg': False, 'nest': True, 'loss': 'binary_crossentropy', 'output_act_func': 'sigm', 'elapsed_time': 7.065027236938477}\n",
      "results : {'train_loss_mean': 0.1827969349967204, 'train_loss_std': 0.027556108597717156, 'val_loss_mean': 0.2709192278417573, 'val_loss_std': 0.06822199152737368, 'train_accuracy_mean': 94.26020408163265, 'train_accuracy_std': 1.0518126595963389, 'val_accuracy_mean': 94.23076923076924, 'val_accuracy_std': 2.0968496453584864, 'train_MSE_mean': 0.04547524152445367, 'train_MSE_std': 0.006722137165109575, 'val_MSE_mean': 0.06816627752229207, 'val_MSE_std': 0.017428711875349653}\n",
      "\n",
      "val_loss = 2.75e-01 +- 1.09e-01\n",
      "val_accuracy = 9.42e+01 +- 2.10e+00\n",
      "hyperparameters : {'eta': 0.085, 'lam': 3e-05, 'alpha': 0.1, 'epochs': 500, 'n_batch': 'batch', 'scale_eta_batchsize': None, 'dim_hidden': 4, 'hidden_act_func': 'tanh', 'l1_reg': False, 'nest': False, 'loss': 'binary_crossentropy', 'output_act_func': 'sigm', 'elapsed_time': 7.055841684341431}\n",
      "results : {'train_loss_mean': 0.1689960005441556, 'train_loss_std': 0.021149059208179145, 'val_loss_mean': 0.2751185653116963, 'val_loss_std': 0.10902111722692547, 'train_accuracy_mean': 94.26020408163265, 'train_accuracy_std': 0.8305520712295731, 'val_accuracy_mean': 94.23076923076924, 'val_accuracy_std': 2.0968496453584864, 'train_MSE_mean': 0.0426392735292334, 'train_MSE_std': 0.006312272477053256, 'val_MSE_mean': 0.06465098636384124, 'val_MSE_std': 0.022764121600860984}\n",
      "\n",
      "val_loss = 2.88e-01 +- 2.07e-01\n",
      "val_accuracy = 9.37e+01 +- 8.06e+00\n",
      "hyperparameters : {'eta': 0.085, 'lam': 1e-05, 'alpha': 0.095, 'epochs': 500, 'n_batch': 'batch', 'scale_eta_batchsize': None, 'dim_hidden': 4, 'hidden_act_func': 'tanh', 'l1_reg': False, 'nest': True, 'loss': 'binary_crossentropy', 'output_act_func': 'sigm', 'elapsed_time': 7.262577533721924}\n",
      "results : {'train_loss_mean': 0.1721168283725361, 'train_loss_std': 0.0379643770596254, 'val_loss_mean': 0.28828487400069963, 'val_loss_std': 0.2066453604388934, 'train_accuracy_mean': 94.68537414965985, 'train_accuracy_std': 1.9646353901439797, 'val_accuracy_mean': 93.65384615384616, 'val_accuracy_std': 8.058587246060368, 'train_MSE_mean': 0.04317924627878526, 'train_MSE_std': 0.013178418823559298, 'val_MSE_mean': 0.06951160492883275, 'val_MSE_std': 0.06033833147492292}\n",
      "\n",
      "val_loss = 3.02e-01 +- 1.78e-01\n",
      "val_accuracy = 9.37e+01 +- 6.64e+00\n",
      "hyperparameters : {'eta': 0.085, 'lam': 8e-06, 'alpha': 0.08, 'epochs': 500, 'n_batch': 'batch', 'scale_eta_batchsize': None, 'dim_hidden': 4, 'hidden_act_func': 'tanh', 'l1_reg': False, 'nest': True, 'loss': 'binary_crossentropy', 'output_act_func': 'sigm', 'elapsed_time': 7.08411717414856}\n",
      "results : {'train_loss_mean': 0.16822612887506463, 'train_loss_std': 0.03106681308334159, 'val_loss_mean': 0.3024303532367574, 'val_loss_std': 0.1776465684330572, 'train_accuracy_mean': 93.86479591836735, 'train_accuracy_std': 1.5561224489795904, 'val_accuracy_mean': 93.65384615384616, 'val_accuracy_std': 6.641347383553546, 'train_MSE_mean': 0.04281804360889146, 'train_MSE_std': 0.009911050938812997, 'val_MSE_mean': 0.07459190370597506, 'val_MSE_std': 0.053944096455302265}\n",
      "\n",
      "val_loss = 2.72e-01 +- 1.90e-01\n",
      "val_accuracy = 9.36e+01 +- 6.40e+00\n",
      "hyperparameters : {'eta': 0.1, 'lam': 9e-06, 'alpha': 0.09, 'epochs': 500, 'n_batch': 'batch', 'scale_eta_batchsize': None, 'dim_hidden': 4, 'hidden_act_func': 'tanh', 'l1_reg': False, 'nest': False, 'loss': 'binary_crossentropy', 'output_act_func': 'sigm', 'elapsed_time': 7.026355504989624}\n",
      "results : {'train_loss_mean': 0.15448994731857124, 'train_loss_std': 0.02867876682531348, 'val_loss_mean': 0.2716596286939694, 'val_loss_std': 0.1900993480738877, 'train_accuracy_mean': 94.47704081632654, 'train_accuracy_std': 1.506830553634934, 'val_accuracy_mean': 93.5897435897436, 'val_accuracy_std': 6.400633803264932, 'train_MSE_mean': 0.038976910534246054, 'train_MSE_std': 0.009381797751087419, 'val_MSE_mean': 0.0641556529133393, 'val_MSE_std': 0.05030085058584715}\n",
      "\n",
      "val_loss = 2.66e-01 +- 1.14e-01\n",
      "val_accuracy = 9.36e+01 +- 5.20e+00\n",
      "hyperparameters : {'eta': 0.1, 'lam': 1e-05, 'alpha': 0.07, 'epochs': 500, 'n_batch': 'batch', 'scale_eta_batchsize': None, 'dim_hidden': 4, 'hidden_act_func': 'tanh', 'l1_reg': False, 'nest': True, 'loss': 'binary_crossentropy', 'output_act_func': 'sigm', 'elapsed_time': 7.053152084350586}\n",
      "results : {'train_loss_mean': 0.15780913523451234, 'train_loss_std': 0.015092507539185718, 'val_loss_mean': 0.26614666895117034, 'val_loss_std': 0.11426285432602226, 'train_accuracy_mean': 94.47278911564626, 'train_accuracy_std': 0.7867369732122752, 'val_accuracy_mean': 93.5897435897436, 'val_accuracy_std': 5.203770190410876, 'train_MSE_mean': 0.03989726742990942, 'train_MSE_std': 0.004098883496478765, 'val_MSE_mean': 0.06844783960771603, 'val_MSE_std': 0.03555638780156383}\n",
      "\n"
     ]
    }
   ],
   "source": [
    "how_many = 10 # how many elements to print\n",
    "sorting_key = 'val_accuracy_mean' # value on which the sorting is performed\n",
    "p_best = []\n",
    "\n",
    "p_to_sort = [[x, x['results'][sorting_key]] for x in param_grid]\n",
    "p_best_sorted = sorted(p_to_sort, key=lambda x:-x[1])\n",
    "\n",
    "for p_comb,loss in p_best_sorted[:how_many]:\n",
    "    p_best.append(p_comb)\n",
    "    tmp_dict = p_comb.copy()\n",
    "    results = tmp_dict.pop('results')\n",
    "    print(f\"val_loss = {results['val_loss_mean']:.2e} +- {results['val_loss_std']:.2e}\")\n",
    "    print(f\"val_accuracy = {results['val_accuracy_mean']:.2e} +- {results['val_accuracy_std']:.2e}\")\n",
    "    print(f'hyperparameters : {tmp_dict}')\n",
    "    print(f'results : {results}')\n",
    "    print('')"
   ]
  },
  {
   "cell_type": "code",
   "execution_count": 8,
   "metadata": {},
   "outputs": [
    {
     "ename": "TypeError",
     "evalue": "NeuralNetwork.retrain() got an unexpected keyword argument 'l1_reg'",
     "output_type": "error",
     "traceback": [
      "\u001b[1;31m---------------------------------------------------------------------------\u001b[0m",
      "\u001b[1;31mTypeError\u001b[0m                                 Traceback (most recent call last)",
      "Cell \u001b[1;32mIn[8], line 23\u001b[0m\n\u001b[0;32m     20\u001b[0m output_layer \u001b[38;5;241m=\u001b[39m Layer(hidden_layer, \u001b[38;5;241m1\u001b[39m, \u001b[38;5;124m'\u001b[39m\u001b[38;5;124msigm\u001b[39m\u001b[38;5;124m'\u001b[39m)\n\u001b[0;32m     22\u001b[0m model \u001b[38;5;241m=\u001b[39m NeuralNetwork(input_layer, output_layer, \u001b[38;5;124m'\u001b[39m\u001b[38;5;124mbinary_crossentropy\u001b[39m\u001b[38;5;124m'\u001b[39m, metrics\u001b[38;5;241m=\u001b[39m[accuracy, MSE])\n\u001b[1;32m---> 23\u001b[0m history \u001b[38;5;241m=\u001b[39m \u001b[43mmodel\u001b[49m\u001b[38;5;241;43m.\u001b[39;49m\u001b[43mretrain\u001b[49m\u001b[43m(\u001b[49m\u001b[43mX_train\u001b[49m\u001b[43m,\u001b[49m\u001b[43m \u001b[49m\u001b[43my_train\u001b[49m\u001b[38;5;241;43m.\u001b[39;49m\u001b[43mreshape\u001b[49m\u001b[43m(\u001b[49m\u001b[43m(\u001b[49m\u001b[38;5;241;43m1\u001b[39;49m\u001b[43m,\u001b[49m\u001b[43mX_train\u001b[49m\u001b[38;5;241;43m.\u001b[39;49m\u001b[43mshape\u001b[49m\u001b[43m[\u001b[49m\u001b[38;5;241;43m1\u001b[39;49m\u001b[43m]\u001b[49m\u001b[43m)\u001b[49m\u001b[43m)\u001b[49m\u001b[43m,\u001b[49m\u001b[43m \u001b[49m\u001b[43mtest_data\u001b[49m\u001b[43m \u001b[49m\u001b[38;5;241;43m=\u001b[39;49m\u001b[43m \u001b[49m\u001b[43m[\u001b[49m\u001b[43mX_test\u001b[49m\u001b[43m,\u001b[49m\u001b[43my_test\u001b[49m\u001b[38;5;241;43m.\u001b[39;49m\u001b[43mreshape\u001b[49m\u001b[43m(\u001b[49m\u001b[43m(\u001b[49m\u001b[38;5;241;43m1\u001b[39;49m\u001b[43m,\u001b[49m\u001b[43mX_test\u001b[49m\u001b[38;5;241;43m.\u001b[39;49m\u001b[43mshape\u001b[49m\u001b[43m[\u001b[49m\u001b[38;5;241;43m1\u001b[39;49m\u001b[43m]\u001b[49m\u001b[43m)\u001b[49m\u001b[43m)\u001b[49m\u001b[43m]\u001b[49m\u001b[43m,\u001b[49m\u001b[43m \u001b[49m\u001b[38;5;241;43m*\u001b[39;49m\u001b[38;5;241;43m*\u001b[39;49m\u001b[43mbest_comb\u001b[49m\u001b[43m)\u001b[49m\n\u001b[0;32m     25\u001b[0m \u001b[38;5;250m\u001b[39m\u001b[38;5;124;03m'''plt.figure(1)\u001b[39;00m\n\u001b[0;32m     26\u001b[0m \u001b[38;5;124;03mplt.plot(history['train_loss'],label='train_loss')\u001b[39;00m\n\u001b[0;32m     27\u001b[0m \u001b[38;5;124;03mplt.plot(history['test_loss'], label='test_loss')\u001b[39;00m\n\u001b[1;32m   (...)\u001b[0m\n\u001b[0;32m     45\u001b[0m \u001b[38;5;124;03mplt.grid()\u001b[39;00m\n\u001b[0;32m     46\u001b[0m \u001b[38;5;124;03mplt.legend(fontsize=15)'''\u001b[39;00m\n\u001b[0;32m     48\u001b[0m plt\u001b[38;5;241m.\u001b[39mfigure(i, figsize\u001b[38;5;241m=\u001b[39m(\u001b[38;5;241m30\u001b[39m,\u001b[38;5;241m10\u001b[39m))\n",
      "\u001b[1;31mTypeError\u001b[0m: NeuralNetwork.retrain() got an unexpected keyword argument 'l1_reg'"
     ]
    }
   ],
   "source": [
    "for i,p_comb in enumerate(p_best):\n",
    "\n",
    "    best_comb = p_comb.copy()\n",
    "\n",
    "    results = best_comb.pop('results')\n",
    "    if best_comb['n_batch'] == 'batch':\n",
    "        best_comb['n_batch'] = X_train.shape[1]\n",
    "    elapsed_time = best_comb.pop('elapsed_time')\n",
    "    if best_comb['scale_eta_batchsize'] == 'lin':\n",
    "        best_comb['eta'] = best_comb['eta'] * best_comb['n_batch']\n",
    "    if best_comb['scale_eta_batchsize'] == 'sqrt':\n",
    "        best_comb['eta'] = best_comb['eta'] * np.sqrt(best_comb['n_batch'])\n",
    "    best_comb.pop('scale_eta_batchsize')\n",
    "\n",
    "    #print(best_comb)\n",
    "    #print(results)\n",
    "    \n",
    "    input_layer = Input(X_train.shape[0])\n",
    "    hidden_layer = Layer(input_layer, best_comb.pop('dim_hidden'), best_comb.pop('hidden_act_func'))\n",
    "    output_layer = Layer(hidden_layer, 1, 'sigm')\n",
    "\n",
    "    model = NeuralNetwork(input_layer, output_layer, 'binary_crossentropy', metrics=[accuracy, MSE])\n",
    "    history = model.retrain(X_train, y_train.reshape((1,X_train.shape[1])), test_data = [X_test,y_test.reshape((1,X_test.shape[1]))], **best_comb)\n",
    "\n",
    "    '''plt.figure(1)\n",
    "    plt.plot(history['train_loss'],label='train_loss')\n",
    "    plt.plot(history['test_loss'], label='test_loss')\n",
    "    plt.yscale('log')\n",
    "    plt.xlabel('Epochs', size=15)\n",
    "    plt.ylabel('Loss functions', size=15)\n",
    "    plt.title('train_loss vs test_loss', size=18)\n",
    "    plt.xticks(size=15)\n",
    "    plt.yticks(size=15)\n",
    "    plt.grid()\n",
    "    plt.legend(fontsize=15)\n",
    "\n",
    "    plt.figure(2)\n",
    "    plt.plot(history['train_accuracy'],label='train_accuracy')\n",
    "    plt.plot(history['test_accuracy'], label='test_accuracy')\n",
    "    plt.xlabel('Epochs', size=15)\n",
    "    plt.ylabel('Accuracy', size=15)\n",
    "    plt.title('train_accuracy vs test_accuracy', size=18)\n",
    "    plt.xticks(size=15)\n",
    "    plt.yticks(size=15)\n",
    "    plt.grid()\n",
    "    plt.legend(fontsize=15)'''\n",
    "\n",
    "    plt.figure(i, figsize=(30,10))\n",
    "    plt.subplot(1,2,1)\n",
    "    plt.plot(history['train_MSE'],label='train_MSE')\n",
    "    plt.plot(history['test_MSE'], label='test_MSE')\n",
    "    plt.yscale('log')\n",
    "    plt.xlabel('Epochs', size=15)\n",
    "    plt.ylabel('Accuracy', size=15)\n",
    "    plt.title('train_MSE vs test_MSE', size=18)\n",
    "    plt.xticks(size=15)\n",
    "    plt.yticks(size=15)\n",
    "    plt.grid()\n",
    "    plt.legend(fontsize=15)\n",
    "\n",
    "    plt.subplot(1,2,2)\n",
    "    plt.plot(history['train_accuracy'],label='train_accuracy')\n",
    "    plt.plot(history['test_accuracy'], label='test_accuracy')\n",
    "    plt.xlabel('Epochs', size=15)\n",
    "    plt.ylabel('Accuracy', size=15)\n",
    "    plt.title('train_accuracy vs test_accuracy', size=18)\n",
    "    plt.xticks(size=15)\n",
    "    plt.yticks(size=15)\n",
    "    plt.grid()\n",
    "    plt.legend(fontsize=15)\n",
    "\n",
    "    plt.show()"
   ]
  },
  {
   "cell_type": "code",
   "execution_count": null,
   "metadata": {},
   "outputs": [],
   "source": []
  }
 ],
 "metadata": {
  "kernelspec": {
   "display_name": "Python 3",
   "language": "python",
   "name": "python3"
  },
  "language_info": {
   "codemirror_mode": {
    "name": "ipython",
    "version": 3
   },
   "file_extension": ".py",
   "mimetype": "text/x-python",
   "name": "python",
   "nbconvert_exporter": "python",
   "pygments_lexer": "ipython3",
   "version": "3.11.6"
  }
 },
 "nbformat": 4,
 "nbformat_minor": 2
}
