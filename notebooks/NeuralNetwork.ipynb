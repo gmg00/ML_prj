{
 "cells": [
  {
   "cell_type": "code",
   "execution_count": 1,
   "metadata": {},
   "outputs": [],
   "source": [
    "import os\n",
    "import sys\n",
    "import numpy as np\n",
    "import pandas as pd\n",
    "from matplotlib import pyplot as plt\n",
    "#import seaborn as sn"
   ]
  },
  {
   "cell_type": "code",
   "execution_count": null,
   "metadata": {},
   "outputs": [],
   "source": [
    "class NeuralNetwork:\n",
    "\n",
    "    def __init__(self,input_layer,output_layer,loss,metrics):\n",
    "        self.input_layer = input_layer\n",
    "        self.output_layer = output_layer\n",
    "        self.lossfunc = lossfunc[loss]\n",
    "\n",
    "\n",
    "\n",
    "\n",
    "    \n",
    "\n",
    "    def add_layer():\n",
    "\n",
    "    def predict(self,input,):\n",
    "        self.output.layer.forward()\n",
    "\n",
    "\n",
    "\n",
    "\n",
    "    def train(self,input,target,epoche,eta,lam,n_batch,validation_split): #callbacks\n",
    "        val_input = input[:,validation_split*input.shape[1]:]\n",
    "        val_target = target[:,validation_split*input.shape[1]:]\n",
    "        index = np.arange(len(input))\n",
    "        np.shuffle(index)\n",
    "        input_new = input[index]\n",
    "        target_new = target[index]\n",
    "\n",
    "\n",
    "        j = 0\n",
    "        while j < epoche:\n",
    "                \n",
    "                np.shuffle(index)\n",
    "                input_new = input[index]\n",
    "                target_new = target[index]\n",
    "                \n",
    "                for k in range(input_new.shape[1]//n_batch):\n",
    "                    self.input_layer.input = input_new[:,k*n_batch:(k+1)*n_batch]\n",
    "                    self.target_layer.target = target_new[:,k*n_batch:(k+1)*n_batch]\n",
    "                    self.output_layer.forward()\n",
    "                    self.trainloss.append(self.output_layer.trainloss())\n",
    "                    self.validloss.append(self.output_layer.validloss())\n",
    "                    self.output_layer.backward()\n",
    "                    self.output_layer.update_weights(eta, lam)\n",
    "                j += 1\n",
    "\n",
    "            \n",
    "\n",
    "\n",
    "    "
   ]
  },
  {
   "cell_type": "code",
   "execution_count": 7,
   "metadata": {},
   "outputs": [],
   "source": [
    "class Prova:\n",
    "\n",
    "    def __init__(self):\n",
    "        self.print_prova()\n",
    "    \n",
    "    def print_prova(self):\n",
    "        print('ciao')\n",
    "\n",
    "class Prova_sub(Prova):\n",
    "\n",
    "    def __init__(self):\n",
    "        Prova.__init__(self)\n",
    "    \n",
    "    def print_prova(self):\n",
    "        print('ciao sub')"
   ]
  },
  {
   "cell_type": "code",
   "execution_count": 8,
   "metadata": {},
   "outputs": [
    {
     "name": "stdout",
     "output_type": "stream",
     "text": [
      "ciao\n",
      "ciao\n",
      "ciao sub\n"
     ]
    }
   ],
   "source": [
    "a = Prova()\n",
    "b = Prova()\n",
    "c = Prova_sub()"
   ]
  },
  {
   "cell_type": "code",
   "execution_count": null,
   "metadata": {},
   "outputs": [],
   "source": [
    "input = Input()\n",
    "hidden = Layer()\n",
    "output = Layer()\n",
    "\n",
    "model = NN(input,output,)\n",
    "model.fit()"
   ]
  }
 ],
 "metadata": {
  "kernelspec": {
   "display_name": "Python 3",
   "language": "python",
   "name": "python3"
  },
  "language_info": {
   "codemirror_mode": {
    "name": "ipython",
    "version": 3
   },
   "file_extension": ".py",
   "mimetype": "text/x-python",
   "name": "python",
   "nbconvert_exporter": "python",
   "pygments_lexer": "ipython3",
   "version": "3.11.7"
  }
 },
 "nbformat": 4,
 "nbformat_minor": 2
}
